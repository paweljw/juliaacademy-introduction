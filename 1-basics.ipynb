{
 "cells": [
  {
   "cell_type": "code",
   "execution_count": 1,
   "id": "efc94726-f8b3-4022-89e1-4b7d8ae5a55b",
   "metadata": {},
   "outputs": [
    {
     "name": "stdout",
     "output_type": "stream",
     "text": [
      "Hello, world\n"
     ]
    }
   ],
   "source": [
    "println(\"Hello, world\")"
   ]
  },
  {
   "cell_type": "code",
   "execution_count": 2,
   "id": "b923976e-0e15-4276-9bfe-6685b4ad61db",
   "metadata": {},
   "outputs": [
    {
     "data": {
      "text/plain": [
       "Int64"
      ]
     },
     "execution_count": 2,
     "metadata": {},
     "output_type": "execute_result"
    }
   ],
   "source": [
    "myint = 42\n",
    "typeof(myint)"
   ]
  },
  {
   "cell_type": "code",
   "execution_count": 3,
   "id": "8aac1fa2-2b4f-4903-b0df-b2642bf99800",
   "metadata": {},
   "outputs": [
    {
     "data": {
      "text/plain": [
       "Float64"
      ]
     },
     "execution_count": 3,
     "metadata": {},
     "output_type": "execute_result"
    }
   ],
   "source": [
    "mypi = 3.14159\n",
    "typeof(mypi)"
   ]
  },
  {
   "cell_type": "code",
   "execution_count": 4,
   "id": "84b313d9-10df-4936-bc7c-b24d3f78a395",
   "metadata": {},
   "outputs": [
    {
     "data": {
      "text/plain": [
       "String"
      ]
     },
     "execution_count": 4,
     "metadata": {},
     "output_type": "execute_result"
    }
   ],
   "source": [
    "😔 = \"Unicode is legal in variable names, though why would you\"\n",
    "typeof(😔)"
   ]
  },
  {
   "cell_type": "code",
   "execution_count": 5,
   "id": "5a3d7d49-76e1-454b-8c05-d20c51d92018",
   "metadata": {},
   "outputs": [
    {
     "data": {
      "text/plain": [
       "\"Still why\""
      ]
     },
     "execution_count": 5,
     "metadata": {},
     "output_type": "execute_result"
    }
   ],
   "source": [
    "# You can add weird unicode stuff by going \\:emo, tab-completing and then tabbing it again to get the emoji itself\n",
    "😑 = \"Still why\""
   ]
  },
  {
   "cell_type": "code",
   "execution_count": 6,
   "id": "8e720f11-101e-4407-8258-f239cf9a278a",
   "metadata": {},
   "outputs": [
    {
     "data": {
      "text/plain": [
       "2"
      ]
     },
     "execution_count": 6,
     "metadata": {},
     "output_type": "execute_result"
    }
   ],
   "source": [
    "# I suppose it'll also work for the weird integer division operator\n",
    "dividend = 5\n",
    "divisor = 2\n",
    "\n",
    "# yep, \\div\n",
    "dividend ÷ divisor"
   ]
  },
  {
   "cell_type": "code",
   "execution_count": 7,
   "id": "0e111162-c4c1-4bd1-96ba-3a028138df62",
   "metadata": {},
   "outputs": [
    {
     "data": {
      "text/plain": [
       "5.0"
      ]
     },
     "execution_count": 7,
     "metadata": {},
     "output_type": "execute_result"
    }
   ],
   "source": [
    "# How do you do, fellow reassignments?\n",
    "mypi = 5.0"
   ]
  },
  {
   "cell_type": "code",
   "execution_count": 8,
   "id": "3dc2e892-772c-4cdc-80a2-8a5af476bf36",
   "metadata": {},
   "outputs": [
    {
     "data": {
      "text/plain": [
       "42"
      ]
     },
     "execution_count": 8,
     "metadata": {},
     "output_type": "execute_result"
    }
   ],
   "source": [
    "# Just making sure\n",
    "myint"
   ]
  },
  {
   "cell_type": "code",
   "execution_count": 9,
   "id": "8ba37ccf-b96a-452c-ba36-880bde5465d2",
   "metadata": {},
   "outputs": [
    {
     "data": {
      "text/plain": [
       "\"Unicode is legal in variable names, though why would you\""
      ]
     },
     "execution_count": 9,
     "metadata": {},
     "output_type": "execute_result"
    }
   ],
   "source": [
    "#=\n",
    "I will admit though, I like this style of multiline comments.\n",
    "=#\n",
    "\n",
    "😔"
   ]
  },
  {
   "cell_type": "code",
   "execution_count": 10,
   "id": "b539805a-c541-43a5-b815-b7ef693b3c8f",
   "metadata": {},
   "outputs": [
    {
     "data": {
      "text/plain": [
       "100"
      ]
     },
     "execution_count": 10,
     "metadata": {},
     "output_type": "execute_result"
    }
   ],
   "source": [
    "product = 20 * 5"
   ]
  },
  {
   "cell_type": "code",
   "execution_count": 11,
   "id": "81d37d3d-ff13-45a4-a108-5a50749fbc48",
   "metadata": {},
   "outputs": [
    {
     "data": {
      "text/plain": [
       "100"
      ]
     },
     "execution_count": 11,
     "metadata": {},
     "output_type": "execute_result"
    }
   ],
   "source": [
    "power = 10 ^ 2"
   ]
  },
  {
   "cell_type": "code",
   "execution_count": 12,
   "id": "7b2a5740-f4ee-4860-9f79-614f100579dc",
   "metadata": {},
   "outputs": [
    {
     "data": {
      "text/plain": [
       "10.0"
      ]
     },
     "execution_count": 12,
     "metadata": {},
     "output_type": "execute_result"
    }
   ],
   "source": [
    "square_root = √100"
   ]
  },
  {
   "cell_type": "markdown",
   "id": "4505bfda-cc2c-4152-90d0-627df329bd09",
   "metadata": {
    "tags": []
   },
   "source": [
    "## Exercises"
   ]
  },
  {
   "cell_type": "code",
   "execution_count": 22,
   "id": "b6a7ef9b-c9a3-47f4-8765-19354b068d43",
   "metadata": {},
   "outputs": [
    {
     "data": {
      "text/plain": [
       "365.0"
      ]
     },
     "execution_count": 22,
     "metadata": {},
     "output_type": "execute_result"
    }
   ],
   "source": [
    "days = 365\n",
    "days_float = convert(Float64, days)"
   ]
  },
  {
   "cell_type": "code",
   "execution_count": 23,
   "id": "146de89f-8525-431c-9614-b4d427a6ba9a",
   "metadata": {},
   "outputs": [],
   "source": [
    "@assert days == 365\n",
    "@assert days_float == 365.0"
   ]
  },
  {
   "cell_type": "markdown",
   "id": "d9876d93-b6df-4b93-8c23-be79b3d64dc1",
   "metadata": {},
   "source": [
    "## Strings"
   ]
  },
  {
   "cell_type": "code",
   "execution_count": 24,
   "id": "acc0cc1c-c331-471d-9f7d-87e1b0eca82b",
   "metadata": {},
   "outputs": [
    {
     "data": {
      "text/plain": [
       "\"normal string\""
      ]
     },
     "execution_count": 24,
     "metadata": {},
     "output_type": "execute_result"
    }
   ],
   "source": [
    "normal = \"normal string\"\n"
   ]
  },
  {
   "cell_type": "code",
   "execution_count": 25,
   "id": "85b3af3d-2024-482f-b011-499fd43c103b",
   "metadata": {},
   "outputs": [
    {
     "data": {
      "text/plain": [
       "\"less \\\"normal\\\" string\""
      ]
     },
     "execution_count": 25,
     "metadata": {},
     "output_type": "execute_result"
    }
   ],
   "source": [
    "has_things = \"\"\"less \"normal\" string\"\"\""
   ]
  },
  {
   "cell_type": "code",
   "execution_count": 26,
   "id": "a73e8dcc-92d5-4cc4-8bd9-cdebe33bf741",
   "metadata": {},
   "outputs": [
    {
     "data": {
      "text/plain": [
       "\"normal string and a less \\\"normal\\\" string\""
      ]
     },
     "execution_count": 26,
     "metadata": {},
     "output_type": "execute_result"
    }
   ],
   "source": [
    "concat1 = normal * \" and a \" * has_things"
   ]
  },
  {
   "cell_type": "code",
   "execution_count": 27,
   "id": "363a623b-a3f4-4fd1-bf46-7573e47a8e20",
   "metadata": {},
   "outputs": [
    {
     "data": {
      "text/plain": [
       "\"normal string and an even less \\\"normal\\\" string\""
      ]
     },
     "execution_count": 27,
     "metadata": {},
     "output_type": "execute_result"
    }
   ],
   "source": [
    "concat2 = string(normal, \" and an even \", has_things)"
   ]
  },
  {
   "cell_type": "code",
   "execution_count": 31,
   "id": "826e1141-0303-49bd-b711-ba83d9743ec8",
   "metadata": {},
   "outputs": [
    {
     "data": {
      "text/plain": [
       "\"Look ma,\\n    no hands!\\n\""
      ]
     },
     "execution_count": 31,
     "metadata": {},
     "output_type": "execute_result"
    }
   ],
   "source": [
    "multiline = \"\"\"\n",
    "Look ma,\n",
    "    no hands!\n",
    "\"\"\"\n",
    "\n",
    "multiline"
   ]
  },
  {
   "cell_type": "code",
   "execution_count": 33,
   "id": "8e6c02bb-1d67-4409-afb7-cd29e7b4a74b",
   "metadata": {},
   "outputs": [
    {
     "data": {
      "text/plain": [
       "\"With this magical movement, I shall interp in a normal string\""
      ]
     },
     "execution_count": 33,
     "metadata": {},
     "output_type": "execute_result"
    }
   ],
   "source": [
    "interpolation = \"With this magical movement, I shall interp in a $normal\""
   ]
  },
  {
   "cell_type": "code",
   "execution_count": 35,
   "id": "9b4f3b1e-528c-43c5-8cec-c2bcb4dfe3ad",
   "metadata": {},
   "outputs": [
    {
     "data": {
      "text/plain": [
       "\"Hazzah! A number 2!\""
      ]
     },
     "execution_count": 35,
     "metadata": {},
     "output_type": "execute_result"
    }
   ],
   "source": [
    "interpolation2 = \"Hazzah! A number $(1 + 1)!\""
   ]
  }
 ],
 "metadata": {
  "kernelspec": {
   "display_name": "Julia 1.7.2",
   "language": "julia",
   "name": "julia-1.7"
  },
  "language_info": {
   "file_extension": ".jl",
   "mimetype": "application/julia",
   "name": "julia",
   "version": "1.7.2"
  }
 },
 "nbformat": 4,
 "nbformat_minor": 5
}
