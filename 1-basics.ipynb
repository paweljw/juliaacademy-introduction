{
 "cells": [
  {
   "cell_type": "code",
   "execution_count": 1,
   "id": "efc94726-f8b3-4022-89e1-4b7d8ae5a55b",
   "metadata": {},
   "outputs": [
    {
     "name": "stdout",
     "output_type": "stream",
     "text": [
      "Hello, world\n"
     ]
    }
   ],
   "source": [
    "println(\"Hello, world\")"
   ]
  },
  {
   "cell_type": "code",
   "execution_count": 2,
   "id": "b923976e-0e15-4276-9bfe-6685b4ad61db",
   "metadata": {},
   "outputs": [
    {
     "data": {
      "text/plain": [
       "Int64"
      ]
     },
     "execution_count": 2,
     "metadata": {},
     "output_type": "execute_result"
    }
   ],
   "source": [
    "myint = 42\n",
    "typeof(myint)"
   ]
  },
  {
   "cell_type": "code",
   "execution_count": 3,
   "id": "8aac1fa2-2b4f-4903-b0df-b2642bf99800",
   "metadata": {},
   "outputs": [
    {
     "data": {
      "text/plain": [
       "Float64"
      ]
     },
     "execution_count": 3,
     "metadata": {},
     "output_type": "execute_result"
    }
   ],
   "source": [
    "mypi = 3.14159\n",
    "typeof(mypi)"
   ]
  },
  {
   "cell_type": "code",
   "execution_count": 4,
   "id": "84b313d9-10df-4936-bc7c-b24d3f78a395",
   "metadata": {},
   "outputs": [
    {
     "data": {
      "text/plain": [
       "String"
      ]
     },
     "execution_count": 4,
     "metadata": {},
     "output_type": "execute_result"
    }
   ],
   "source": [
    "😔 = \"Unicode is legal in variable names, though why would you\"\n",
    "typeof(😔)"
   ]
  },
  {
   "cell_type": "code",
   "execution_count": 5,
   "id": "5a3d7d49-76e1-454b-8c05-d20c51d92018",
   "metadata": {},
   "outputs": [
    {
     "data": {
      "text/plain": [
       "\"Still why\""
      ]
     },
     "execution_count": 5,
     "metadata": {},
     "output_type": "execute_result"
    }
   ],
   "source": [
    "# You can add weird unicode stuff by going \\:emo, tab-completing and then tabbing it again to get the emoji itself\n",
    "😑 = \"Still why\""
   ]
  },
  {
   "cell_type": "code",
   "execution_count": 6,
   "id": "8e720f11-101e-4407-8258-f239cf9a278a",
   "metadata": {},
   "outputs": [
    {
     "data": {
      "text/plain": [
       "2"
      ]
     },
     "execution_count": 6,
     "metadata": {},
     "output_type": "execute_result"
    }
   ],
   "source": [
    "# I suppose it'll also work for the weird integer division operator\n",
    "dividend = 5\n",
    "divisor = 2\n",
    "\n",
    "# yep, \\div\n",
    "dividend ÷ divisor"
   ]
  },
  {
   "cell_type": "code",
   "execution_count": 7,
   "id": "0e111162-c4c1-4bd1-96ba-3a028138df62",
   "metadata": {},
   "outputs": [
    {
     "data": {
      "text/plain": [
       "5.0"
      ]
     },
     "execution_count": 7,
     "metadata": {},
     "output_type": "execute_result"
    }
   ],
   "source": [
    "# How do you do, fellow reassignments?\n",
    "mypi = 5.0"
   ]
  },
  {
   "cell_type": "code",
   "execution_count": 8,
   "id": "3dc2e892-772c-4cdc-80a2-8a5af476bf36",
   "metadata": {},
   "outputs": [
    {
     "data": {
      "text/plain": [
       "42"
      ]
     },
     "execution_count": 8,
     "metadata": {},
     "output_type": "execute_result"
    }
   ],
   "source": [
    "# Just making sure\n",
    "myint"
   ]
  },
  {
   "cell_type": "code",
   "execution_count": 9,
   "id": "8ba37ccf-b96a-452c-ba36-880bde5465d2",
   "metadata": {},
   "outputs": [
    {
     "data": {
      "text/plain": [
       "\"Unicode is legal in variable names, though why would you\""
      ]
     },
     "execution_count": 9,
     "metadata": {},
     "output_type": "execute_result"
    }
   ],
   "source": [
    "#=\n",
    "I will admit though, I like this style of multiline comments.\n",
    "=#\n",
    "\n",
    "😔"
   ]
  },
  {
   "cell_type": "code",
   "execution_count": 10,
   "id": "b539805a-c541-43a5-b815-b7ef693b3c8f",
   "metadata": {},
   "outputs": [
    {
     "data": {
      "text/plain": [
       "100"
      ]
     },
     "execution_count": 10,
     "metadata": {},
     "output_type": "execute_result"
    }
   ],
   "source": [
    "product = 20 * 5"
   ]
  },
  {
   "cell_type": "code",
   "execution_count": 11,
   "id": "81d37d3d-ff13-45a4-a108-5a50749fbc48",
   "metadata": {},
   "outputs": [
    {
     "data": {
      "text/plain": [
       "100"
      ]
     },
     "execution_count": 11,
     "metadata": {},
     "output_type": "execute_result"
    }
   ],
   "source": [
    "power = 10 ^ 2"
   ]
  },
  {
   "cell_type": "code",
   "execution_count": 12,
   "id": "7b2a5740-f4ee-4860-9f79-614f100579dc",
   "metadata": {},
   "outputs": [
    {
     "data": {
      "text/plain": [
       "10.0"
      ]
     },
     "execution_count": 12,
     "metadata": {},
     "output_type": "execute_result"
    }
   ],
   "source": [
    "square_root = √100"
   ]
  },
  {
   "cell_type": "markdown",
   "id": "4505bfda-cc2c-4152-90d0-627df329bd09",
   "metadata": {
    "tags": []
   },
   "source": [
    "## Exercises"
   ]
  },
  {
   "cell_type": "code",
   "execution_count": 22,
   "id": "b6a7ef9b-c9a3-47f4-8765-19354b068d43",
   "metadata": {},
   "outputs": [
    {
     "data": {
      "text/plain": [
       "365.0"
      ]
     },
     "execution_count": 22,
     "metadata": {},
     "output_type": "execute_result"
    }
   ],
   "source": [
    "days = 365\n",
    "days_float = convert(Float64, days)"
   ]
  },
  {
   "cell_type": "code",
   "execution_count": 23,
   "id": "146de89f-8525-431c-9614-b4d427a6ba9a",
   "metadata": {},
   "outputs": [],
   "source": [
    "@assert days == 365\n",
    "@assert days_float == 365.0"
   ]
  },
  {
   "cell_type": "markdown",
   "id": "d9876d93-b6df-4b93-8c23-be79b3d64dc1",
   "metadata": {},
   "source": [
    "## Strings"
   ]
  },
  {
   "cell_type": "code",
   "execution_count": 24,
   "id": "acc0cc1c-c331-471d-9f7d-87e1b0eca82b",
   "metadata": {},
   "outputs": [
    {
     "data": {
      "text/plain": [
       "\"normal string\""
      ]
     },
     "execution_count": 24,
     "metadata": {},
     "output_type": "execute_result"
    }
   ],
   "source": [
    "normal = \"normal string\"\n"
   ]
  },
  {
   "cell_type": "code",
   "execution_count": 25,
   "id": "85b3af3d-2024-482f-b011-499fd43c103b",
   "metadata": {},
   "outputs": [
    {
     "data": {
      "text/plain": [
       "\"less \\\"normal\\\" string\""
      ]
     },
     "execution_count": 25,
     "metadata": {},
     "output_type": "execute_result"
    }
   ],
   "source": [
    "has_things = \"\"\"less \"normal\" string\"\"\""
   ]
  },
  {
   "cell_type": "code",
   "execution_count": 26,
   "id": "a73e8dcc-92d5-4cc4-8bd9-cdebe33bf741",
   "metadata": {},
   "outputs": [
    {
     "data": {
      "text/plain": [
       "\"normal string and a less \\\"normal\\\" string\""
      ]
     },
     "execution_count": 26,
     "metadata": {},
     "output_type": "execute_result"
    }
   ],
   "source": [
    "concat1 = normal * \" and a \" * has_things"
   ]
  },
  {
   "cell_type": "code",
   "execution_count": 27,
   "id": "363a623b-a3f4-4fd1-bf46-7573e47a8e20",
   "metadata": {},
   "outputs": [
    {
     "data": {
      "text/plain": [
       "\"normal string and an even less \\\"normal\\\" string\""
      ]
     },
     "execution_count": 27,
     "metadata": {},
     "output_type": "execute_result"
    }
   ],
   "source": [
    "concat2 = string(normal, \" and an even \", has_things)"
   ]
  },
  {
   "cell_type": "code",
   "execution_count": 31,
   "id": "826e1141-0303-49bd-b711-ba83d9743ec8",
   "metadata": {},
   "outputs": [
    {
     "data": {
      "text/plain": [
       "\"Look ma,\\n    no hands!\\n\""
      ]
     },
     "execution_count": 31,
     "metadata": {},
     "output_type": "execute_result"
    }
   ],
   "source": [
    "multiline = \"\"\"\n",
    "Look ma,\n",
    "    no hands!\n",
    "\"\"\"\n",
    "\n",
    "multiline"
   ]
  },
  {
   "cell_type": "code",
   "execution_count": 33,
   "id": "8e6c02bb-1d67-4409-afb7-cd29e7b4a74b",
   "metadata": {},
   "outputs": [
    {
     "data": {
      "text/plain": [
       "\"With this magical movement, I shall interp in a normal string\""
      ]
     },
     "execution_count": 33,
     "metadata": {},
     "output_type": "execute_result"
    }
   ],
   "source": [
    "interpolation = \"With this magical movement, I shall interp in a $normal\""
   ]
  },
  {
   "cell_type": "code",
   "execution_count": 35,
   "id": "9b4f3b1e-528c-43c5-8cec-c2bcb4dfe3ad",
   "metadata": {},
   "outputs": [
    {
     "data": {
      "text/plain": [
       "\"Hazzah! A number 2!\""
      ]
     },
     "execution_count": 35,
     "metadata": {},
     "output_type": "execute_result"
    }
   ],
   "source": [
    "interpolation2 = \"Hazzah! A number $(1 + 1)!\""
   ]
  },
  {
   "cell_type": "markdown",
   "id": "a85f9400-9b1a-43b3-95d7-360a7f7ed2e9",
   "metadata": {},
   "source": [
    "# Data structures"
   ]
  },
  {
   "cell_type": "code",
   "execution_count": 36,
   "id": "e56571ae-f2ca-4020-af48-248249ebb728",
   "metadata": {},
   "outputs": [
    {
     "data": {
      "text/plain": [
       "Dict{String, String} with 2 entries:\n",
       "  \"One\" => \"Loneliest\"\n",
       "  \"Two\" => \"Less lonely\""
      ]
     },
     "execution_count": 36,
     "metadata": {},
     "output_type": "execute_result"
    }
   ],
   "source": [
    "dict = Dict(\"One\" => \"Loneliest\", \"Two\" => \"Less lonely\")"
   ]
  },
  {
   "cell_type": "code",
   "execution_count": 37,
   "id": "06bae735-661b-4bbd-94ae-f45d39699661",
   "metadata": {},
   "outputs": [
    {
     "data": {
      "text/plain": [
       "\"Not lonely at all\""
      ]
     },
     "execution_count": 37,
     "metadata": {},
     "output_type": "execute_result"
    }
   ],
   "source": [
    "dict[\"Three\"] = \"Not lonely at all\""
   ]
  },
  {
   "cell_type": "code",
   "execution_count": 38,
   "id": "fc4b0413-d403-4632-857e-5ca5d255d1de",
   "metadata": {},
   "outputs": [
    {
     "data": {
      "text/plain": [
       "Dict{String, String} with 3 entries:\n",
       "  \"One\"   => \"Loneliest\"\n",
       "  \"Two\"   => \"Less lonely\"\n",
       "  \"Three\" => \"Not lonely at all\""
      ]
     },
     "execution_count": 38,
     "metadata": {},
     "output_type": "execute_result"
    }
   ],
   "source": [
    "dict"
   ]
  },
  {
   "cell_type": "code",
   "execution_count": 39,
   "id": "2c8c844d-fcf6-461b-8e4d-204de7a20974",
   "metadata": {},
   "outputs": [
    {
     "ename": "LoadError",
     "evalue": "MethodError: \u001b[0mCannot `convert` an object of type \u001b[92mInt64\u001b[39m\u001b[0m to an object of type \u001b[91mString\u001b[39m\n\u001b[0mClosest candidates are:\n\u001b[0m  convert(::Type{String}, \u001b[91m::String\u001b[39m) at ~/.asdf/installs/julia/1.7.2/share/julia/base/essentials.jl:223\n\u001b[0m  convert(::Type{T}, \u001b[91m::T\u001b[39m) where T<:AbstractString at ~/.asdf/installs/julia/1.7.2/share/julia/base/strings/basic.jl:231\n\u001b[0m  convert(::Type{T}, \u001b[91m::AbstractString\u001b[39m) where T<:AbstractString at ~/.asdf/installs/julia/1.7.2/share/julia/base/strings/basic.jl:232\n\u001b[0m  ...",
     "output_type": "error",
     "traceback": [
      "MethodError: \u001b[0mCannot `convert` an object of type \u001b[92mInt64\u001b[39m\u001b[0m to an object of type \u001b[91mString\u001b[39m\n\u001b[0mClosest candidates are:\n\u001b[0m  convert(::Type{String}, \u001b[91m::String\u001b[39m) at ~/.asdf/installs/julia/1.7.2/share/julia/base/essentials.jl:223\n\u001b[0m  convert(::Type{T}, \u001b[91m::T\u001b[39m) where T<:AbstractString at ~/.asdf/installs/julia/1.7.2/share/julia/base/strings/basic.jl:231\n\u001b[0m  convert(::Type{T}, \u001b[91m::AbstractString\u001b[39m) where T<:AbstractString at ~/.asdf/installs/julia/1.7.2/share/julia/base/strings/basic.jl:232\n\u001b[0m  ...",
      "",
      "Stacktrace:",
      " [1] setindex!(h::Dict{String, String}, v0::String, key0::Int64)",
      "   @ Base ./dict.jl:373",
      " [2] top-level scope",
      "   @ In[39]:1",
      " [3] eval",
      "   @ ./boot.jl:373 [inlined]",
      " [4] include_string(mapexpr::typeof(REPL.softscope), mod::Module, code::String, filename::String)",
      "   @ Base ./loading.jl:1196"
     ]
    }
   ],
   "source": [
    "dict[1] = \"Nope\""
   ]
  },
  {
   "cell_type": "code",
   "execution_count": 42,
   "id": "368d6104-4a6e-4a5e-9ad8-ceb45e4084f9",
   "metadata": {},
   "outputs": [
    {
     "data": {
      "text/plain": [
       "\"Not lonely at all\""
      ]
     },
     "execution_count": 42,
     "metadata": {},
     "output_type": "execute_result"
    }
   ],
   "source": [
    "pop!(dict, \"Three\")"
   ]
  },
  {
   "cell_type": "code",
   "execution_count": 43,
   "id": "00ec1f0f-169c-4e2a-bf3e-4e7180225ab2",
   "metadata": {},
   "outputs": [
    {
     "data": {
      "text/plain": [
       "Dict{String, String} with 2 entries:\n",
       "  \"One\" => \"Loneliest\"\n",
       "  \"Two\" => \"Less lonely\""
      ]
     },
     "execution_count": 43,
     "metadata": {},
     "output_type": "execute_result"
    }
   ],
   "source": [
    "dict"
   ]
  },
  {
   "cell_type": "code",
   "execution_count": 44,
   "id": "1d31f964-33cd-4724-8f58-d69a43780e02",
   "metadata": {},
   "outputs": [
    {
     "data": {
      "text/plain": [
       "(\"cats\", \"dogs\", \"sugar\", 1)"
      ]
     },
     "execution_count": 44,
     "metadata": {},
     "output_type": "execute_result"
    }
   ],
   "source": [
    "tuple = (\"cats\", \"dogs\", \"sugar\", 1)"
   ]
  },
  {
   "cell_type": "code",
   "execution_count": 46,
   "id": "21f22fc4-febf-4ac3-953b-e2ef08bbf2c2",
   "metadata": {},
   "outputs": [
    {
     "data": {
      "text/plain": [
       "\"cats\""
      ]
     },
     "execution_count": 46,
     "metadata": {},
     "output_type": "execute_result"
    }
   ],
   "source": [
    "tuple[1]"
   ]
  },
  {
   "cell_type": "code",
   "execution_count": 47,
   "id": "4d07858f-dd7b-46bb-a822-870897936410",
   "metadata": {},
   "outputs": [
    {
     "ename": "LoadError",
     "evalue": "BoundsError: attempt to access Tuple{String, String, String, Int64} at index [0]",
     "output_type": "error",
     "traceback": [
      "BoundsError: attempt to access Tuple{String, String, String, Int64} at index [0]",
      "",
      "Stacktrace:",
      " [1] getindex(t::Tuple, i::Int64)",
      "   @ Base ./tuple.jl:29",
      " [2] top-level scope",
      "   @ In[47]:1",
      " [3] eval",
      "   @ ./boot.jl:373 [inlined]",
      " [4] include_string(mapexpr::typeof(REPL.softscope), mod::Module, code::String, filename::String)",
      "   @ Base ./loading.jl:1196"
     ]
    }
   ],
   "source": [
    "tuple[0]"
   ]
  },
  {
   "cell_type": "code",
   "execution_count": 48,
   "id": "461b3ccb-3f8b-4146-9985-df8829e46fec",
   "metadata": {},
   "outputs": [
    {
     "data": {
      "text/plain": [
       "3-element Vector{Any}:\n",
       "  \"cat\"\n",
       "  \"dog\"\n",
       " 1"
      ]
     },
     "execution_count": 48,
     "metadata": {},
     "output_type": "execute_result"
    }
   ],
   "source": [
    "array = [\"cat\", \"dog\", 1]"
   ]
  },
  {
   "cell_type": "code",
   "execution_count": 49,
   "id": "bce558f3-d7a2-4477-b2e6-366f3db9d074",
   "metadata": {},
   "outputs": [
    {
     "data": {
      "text/plain": [
       "3-element Vector{String}:\n",
       " \"cat\"\n",
       " \"dog\"\n",
       " \"sugar\""
      ]
     },
     "execution_count": 49,
     "metadata": {},
     "output_type": "execute_result"
    }
   ],
   "source": [
    "array2 = [\"cat\", \"dog\", \"sugar\"]"
   ]
  },
  {
   "cell_type": "code",
   "execution_count": 50,
   "id": "2c854e54-ce07-4600-9c49-d9cd0d844762",
   "metadata": {},
   "outputs": [
    {
     "data": {
      "text/plain": [
       "\"blerp\""
      ]
     },
     "execution_count": 50,
     "metadata": {},
     "output_type": "execute_result"
    }
   ],
   "source": [
    "array[3] = \"blerp\""
   ]
  },
  {
   "cell_type": "code",
   "execution_count": 51,
   "id": "df6b771a-8321-47ab-9c22-60679b8e87e6",
   "metadata": {},
   "outputs": [
    {
     "data": {
      "text/plain": [
       "3-element Vector{Any}:\n",
       " \"cat\"\n",
       " \"dog\"\n",
       " \"blerp\""
      ]
     },
     "execution_count": 51,
     "metadata": {},
     "output_type": "execute_result"
    }
   ],
   "source": [
    "array"
   ]
  },
  {
   "cell_type": "code",
   "execution_count": 52,
   "id": "a6ef858a-829d-47e6-904b-79d02276bdb6",
   "metadata": {},
   "outputs": [
    {
     "ename": "LoadError",
     "evalue": "MethodError: \u001b[0mCannot `convert` an object of type \u001b[92mInt64\u001b[39m\u001b[0m to an object of type \u001b[91mString\u001b[39m\n\u001b[0mClosest candidates are:\n\u001b[0m  convert(::Type{String}, \u001b[91m::String\u001b[39m) at ~/.asdf/installs/julia/1.7.2/share/julia/base/essentials.jl:223\n\u001b[0m  convert(::Type{T}, \u001b[91m::T\u001b[39m) where T<:AbstractString at ~/.asdf/installs/julia/1.7.2/share/julia/base/strings/basic.jl:231\n\u001b[0m  convert(::Type{T}, \u001b[91m::AbstractString\u001b[39m) where T<:AbstractString at ~/.asdf/installs/julia/1.7.2/share/julia/base/strings/basic.jl:232\n\u001b[0m  ...",
     "output_type": "error",
     "traceback": [
      "MethodError: \u001b[0mCannot `convert` an object of type \u001b[92mInt64\u001b[39m\u001b[0m to an object of type \u001b[91mString\u001b[39m\n\u001b[0mClosest candidates are:\n\u001b[0m  convert(::Type{String}, \u001b[91m::String\u001b[39m) at ~/.asdf/installs/julia/1.7.2/share/julia/base/essentials.jl:223\n\u001b[0m  convert(::Type{T}, \u001b[91m::T\u001b[39m) where T<:AbstractString at ~/.asdf/installs/julia/1.7.2/share/julia/base/strings/basic.jl:231\n\u001b[0m  convert(::Type{T}, \u001b[91m::AbstractString\u001b[39m) where T<:AbstractString at ~/.asdf/installs/julia/1.7.2/share/julia/base/strings/basic.jl:232\n\u001b[0m  ...",
      "",
      "Stacktrace:",
      " [1] setindex!(A::Vector{String}, x::Int64, i1::Int64)",
      "   @ Base ./array.jl:903",
      " [2] top-level scope",
      "   @ In[52]:1",
      " [3] eval",
      "   @ ./boot.jl:373 [inlined]",
      " [4] include_string(mapexpr::typeof(REPL.softscope), mod::Module, code::String, filename::String)",
      "   @ Base ./loading.jl:1196"
     ]
    }
   ],
   "source": [
    "array2[4] = 1"
   ]
  },
  {
   "cell_type": "code",
   "execution_count": 53,
   "id": "74453a55-62f9-47da-865a-140d01bafb7f",
   "metadata": {},
   "outputs": [
    {
     "data": {
      "text/plain": [
       "4-element Vector{String}:\n",
       " \"cat\"\n",
       " \"dog\"\n",
       " \"sugar\"\n",
       " \"nope\""
      ]
     },
     "execution_count": 53,
     "metadata": {},
     "output_type": "execute_result"
    }
   ],
   "source": [
    "push!(array2, \"nope\")"
   ]
  },
  {
   "cell_type": "code",
   "execution_count": 54,
   "id": "212011ba-be1a-46c9-8b75-f68ae97c2866",
   "metadata": {},
   "outputs": [
    {
     "data": {
      "text/plain": [
       "\"nope\""
      ]
     },
     "execution_count": 54,
     "metadata": {},
     "output_type": "execute_result"
    }
   ],
   "source": [
    "pop!(array2)"
   ]
  },
  {
   "cell_type": "code",
   "execution_count": 55,
   "id": "b0bf4dc3-455c-4352-a9c7-ff2bc505106d",
   "metadata": {},
   "outputs": [
    {
     "data": {
      "text/plain": [
       "\"cat\""
      ]
     },
     "execution_count": 55,
     "metadata": {},
     "output_type": "execute_result"
    }
   ],
   "source": [
    "popfirst!(array2)"
   ]
  },
  {
   "cell_type": "code",
   "execution_count": 56,
   "id": "bdb9c147-6841-428c-bacd-73c57fe1757c",
   "metadata": {},
   "outputs": [
    {
     "data": {
      "text/plain": [
       "2-element Vector{String}:\n",
       " \"dog\"\n",
       " \"sugar\""
      ]
     },
     "execution_count": 56,
     "metadata": {},
     "output_type": "execute_result"
    }
   ],
   "source": [
    "array2"
   ]
  },
  {
   "cell_type": "code",
   "execution_count": 57,
   "id": "473b591e-18ae-46aa-b75e-43b8420ddbe5",
   "metadata": {},
   "outputs": [
    {
     "data": {
      "text/plain": [
       "2×3 Matrix{Float64}:\n",
       " 0.590178  0.99912   0.753865\n",
       " 0.945327  0.271148  0.748354"
      ]
     },
     "execution_count": 57,
     "metadata": {},
     "output_type": "execute_result"
    }
   ],
   "source": [
    "rand(2, 3)"
   ]
  },
  {
   "cell_type": "code",
   "execution_count": 58,
   "id": "7cbf91d1-9bec-41de-9c15-fca13242e070",
   "metadata": {},
   "outputs": [
    {
     "data": {
      "text/plain": [
       "3×4×5 Array{Float64, 3}:\n",
       "[:, :, 1] =\n",
       " 0.0453795  0.50201   0.727985  0.965045\n",
       " 0.0777096  0.737754  0.604197  0.0149121\n",
       " 0.751371   0.812732  0.847252  0.696184\n",
       "\n",
       "[:, :, 2] =\n",
       " 0.495479  0.613945  0.351748  0.94957\n",
       " 0.510729  0.657763  0.671458  0.167492\n",
       " 0.862949  0.95707   0.728643  0.532135\n",
       "\n",
       "[:, :, 3] =\n",
       " 0.105554  0.156455  0.486142  0.714881\n",
       " 0.828952  0.634006  0.955441  0.813741\n",
       " 0.417386  0.991081  0.19232   0.0847862\n",
       "\n",
       "[:, :, 4] =\n",
       " 0.34294   0.925994  0.501863  0.464353\n",
       " 0.517465  0.897966  0.644917  0.134998\n",
       " 0.602701  0.955498  0.447392  0.589883\n",
       "\n",
       "[:, :, 5] =\n",
       " 0.245747  0.346411  0.962586  0.436386\n",
       " 0.353424  0.467198  0.29124   0.25546\n",
       " 0.487867  0.187885  0.541409  0.782562"
      ]
     },
     "execution_count": 58,
     "metadata": {},
     "output_type": "execute_result"
    }
   ],
   "source": [
    "rand(3, 4, 5)"
   ]
  }
 ],
 "metadata": {
  "kernelspec": {
   "display_name": "Julia 1.7.2",
   "language": "julia",
   "name": "julia-1.7"
  },
  "language_info": {
   "file_extension": ".jl",
   "mimetype": "application/julia",
   "name": "julia",
   "version": "1.7.2"
  }
 },
 "nbformat": 4,
 "nbformat_minor": 5
}
